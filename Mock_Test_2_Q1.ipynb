{
  "nbformat": 4,
  "nbformat_minor": 0,
  "metadata": {
    "colab": {
      "provenance": []
    },
    "kernelspec": {
      "name": "python3",
      "display_name": "Python 3"
    },
    "language_info": {
      "name": "python"
    }
  },
  "cells": [
    {
      "cell_type": "markdown",
      "source": [
        "Given a non-negative integer x, return the square root of x rounded down to the nearest integer. The returned integer should be non-negative as well. You must not use any built-in exponent function or operator.\n",
        "\n",
        " Example 1:\n",
        "Input: x = 4 Output: 2 Explanation: The square root of 4 is 2, so we return 2."
      ],
      "metadata": {
        "id": "ZrrMQLRwA3ai"
      }
    },
    {
      "cell_type": "code",
      "execution_count": 1,
      "metadata": {
        "colab": {
          "base_uri": "https://localhost:8080/"
        },
        "id": "83bXk4kEArXS",
        "outputId": "7124aed1-c454-487f-d336-e660c18a1abe"
      },
      "outputs": [
        {
          "output_type": "stream",
          "name": "stdout",
          "text": [
            "2\n"
          ]
        }
      ],
      "source": [
        "\n",
        "def sqrt(x):\n",
        "    if x == 0:\n",
        "        return 0\n",
        "    guess = x\n",
        "\n",
        "    while True:\n",
        "        better_guess = (guess + x / guess) // 2\n",
        "        if better_guess == guess:\n",
        "            return int(guess)\n",
        "\n",
        "        guess = better_guess\n",
        "\n",
        "\n",
        "x = 4\n",
        "result = sqrt(x)\n",
        "print(result)\n",
        "\n",
        "\n",
        "\n"
      ]
    },
    {
      "cell_type": "markdown",
      "source": [],
      "metadata": {
        "id": "jtqaeWg7B-la"
      }
    },
    {
      "cell_type": "code",
      "source": [],
      "metadata": {
        "id": "twNw6E41B9pP"
      },
      "execution_count": null,
      "outputs": []
    }
  ]
}